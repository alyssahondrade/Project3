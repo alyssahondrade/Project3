{
 "cells": [
  {
   "cell_type": "code",
   "execution_count": 1,
   "id": "22a33e9d-7645-45b0-bdf9-47cc09a97b8b",
   "metadata": {},
   "outputs": [],
   "source": [
    "# Import dependencies\n",
    "import sqlalchemy\n",
    "# from sqlalchemy.ext.automap import automap_base\n",
    "from sqlalchemy.orm import Session, declarative_base\n",
    "from sqlalchemy import create_engine, inspect, Column, String, Boolean, Float\n",
    "\n",
    "import pandas as pd"
   ]
  },
  {
   "cell_type": "code",
   "execution_count": 2,
   "id": "50fe07e0-535b-4152-a962-b456148b5b61",
   "metadata": {},
   "outputs": [],
   "source": [
    "# Import CSV as dataframes\n",
    "locations_df = pd.read_csv(\"resources/clean/locations.csv\")\n",
    "appearance_df = pd.read_csv(\"resources/clean/appearance.csv\")\n",
    "activities_df = pd.read_csv(\"resources/clean/activities.csv\")\n",
    "interactions_df = pd.read_csv(\"resources/clean/interactions.csv\")"
   ]
  },
  {
   "cell_type": "code",
   "execution_count": 3,
   "id": "2b52142f-ff86-420c-b9b5-d8c1ef8991f7",
   "metadata": {},
   "outputs": [
    {
     "data": {
      "text/html": [
       "<div>\n",
       "<style scoped>\n",
       "    .dataframe tbody tr th:only-of-type {\n",
       "        vertical-align: middle;\n",
       "    }\n",
       "\n",
       "    .dataframe tbody tr th {\n",
       "        vertical-align: top;\n",
       "    }\n",
       "\n",
       "    .dataframe thead th {\n",
       "        text-align: right;\n",
       "    }\n",
       "</style>\n",
       "<table border=\"1\" class=\"dataframe\">\n",
       "  <thead>\n",
       "    <tr style=\"text-align: right;\">\n",
       "      <th></th>\n",
       "      <th>squirrel_id</th>\n",
       "      <th>approaches</th>\n",
       "      <th>indifferent</th>\n",
       "      <th>runs_from</th>\n",
       "      <th>watching</th>\n",
       "    </tr>\n",
       "  </thead>\n",
       "  <tbody>\n",
       "    <tr>\n",
       "      <th>0</th>\n",
       "      <td>A-01-01</td>\n",
       "      <td>False</td>\n",
       "      <td>True</td>\n",
       "      <td>False</td>\n",
       "      <td>False</td>\n",
       "    </tr>\n",
       "    <tr>\n",
       "      <th>1</th>\n",
       "      <td>A-01-02</td>\n",
       "      <td>False</td>\n",
       "      <td>True</td>\n",
       "      <td>False</td>\n",
       "      <td>False</td>\n",
       "    </tr>\n",
       "    <tr>\n",
       "      <th>2</th>\n",
       "      <td>A-01-03</td>\n",
       "      <td>False</td>\n",
       "      <td>True</td>\n",
       "      <td>False</td>\n",
       "      <td>False</td>\n",
       "    </tr>\n",
       "    <tr>\n",
       "      <th>3</th>\n",
       "      <td>A-01-04</td>\n",
       "      <td>False</td>\n",
       "      <td>True</td>\n",
       "      <td>False</td>\n",
       "      <td>False</td>\n",
       "    </tr>\n",
       "    <tr>\n",
       "      <th>4</th>\n",
       "      <td>A-01-05</td>\n",
       "      <td>False</td>\n",
       "      <td>True</td>\n",
       "      <td>False</td>\n",
       "      <td>False</td>\n",
       "    </tr>\n",
       "  </tbody>\n",
       "</table>\n",
       "</div>"
      ],
      "text/plain": [
       "  squirrel_id  approaches  indifferent  runs_from  watching\n",
       "0     A-01-01       False         True      False     False\n",
       "1     A-01-02       False         True      False     False\n",
       "2     A-01-03       False         True      False     False\n",
       "3     A-01-04       False         True      False     False\n",
       "4     A-01-05       False         True      False     False"
      ]
     },
     "execution_count": 3,
     "metadata": {},
     "output_type": "execute_result"
    }
   ],
   "source": [
    "# Test one dataframe\n",
    "interactions_df.head()"
   ]
  },
  {
   "cell_type": "code",
   "execution_count": 4,
   "id": "8d9723a8-5111-4547-a29e-a6410e479158",
   "metadata": {},
   "outputs": [],
   "source": [
    "# Define the Base object\n",
    "Base = declarative_base()"
   ]
  },
  {
   "cell_type": "code",
   "execution_count": 5,
   "id": "4fe9b39c-a881-416d-930b-1f3df2c70d48",
   "metadata": {},
   "outputs": [],
   "source": [
    "# Define constants\n",
    "max_id = 20\n",
    "max_float = 20\n",
    "max_colour = 10\n",
    "\n",
    "# Create the classes\n",
    "class locations(Base):\n",
    "    __tablename__ = 'locations'\n",
    "    squirrel_id = Column(String(length=max_id), primary_key=True)\n",
    "    latitude = Column(Float)\n",
    "    longitude = Column(Float)\n",
    "\n",
    "class appearance(Base):\n",
    "    __tablename__ = 'appearance'\n",
    "    squirrel_id = Column(String(length=max_id), primary_key=True)\n",
    "    primary_colour = Column(String(length=max_colour))\n",
    "    black = Column(Boolean)\n",
    "    cinnamon = Column(Boolean)\n",
    "    gray = Column(Boolean)\n",
    "    white = Column(Boolean)\n",
    "\n",
    "class activities(Base):\n",
    "    __tablename__ = 'activities'\n",
    "    squirrel_id = Column(String(length=max_id), primary_key=True)\n",
    "    chasing = Column(Boolean)\n",
    "    climbing = Column(Boolean)\n",
    "    digging = Column(Boolean)\n",
    "    eating = Column(Boolean)\n",
    "    foraging = Column(Boolean)\n",
    "    running = Column(Boolean)\n",
    "    shouting = Column(Boolean)\n",
    "    sitting = Column(Boolean)\n",
    "\n",
    "class interactions(Base):\n",
    "    __tablename__ = 'interactions'\n",
    "    squirrel_id = Column(String(length=max_id), primary_key=True)\n",
    "    approaches = Column(Boolean)\n",
    "    indifferent = Column(Boolean)\n",
    "    runs_from = Column(Boolean)\n",
    "    watching = Column(Boolean)"
   ]
  },
  {
   "cell_type": "code",
   "execution_count": 6,
   "id": "a9273d33-0570-4966-847a-58451b4d3939",
   "metadata": {},
   "outputs": [],
   "source": [
    "# Create a reference to the database, if it doesn't already exist\n",
    "engine = create_engine('sqlite:///squirrels.sqlite')"
   ]
  },
  {
   "cell_type": "code",
   "execution_count": 7,
   "id": "178c9a86-a9bf-4e66-a1ba-c620b99e177d",
   "metadata": {},
   "outputs": [
    {
     "data": {
      "text/plain": [
       "2125"
      ]
     },
     "execution_count": 7,
     "metadata": {},
     "output_type": "execute_result"
    }
   ],
   "source": [
    "# Write the dataframes to the database\n",
    "locations_df.to_sql(\"locations\", con=engine, if_exists=\"replace\", index=False)\n",
    "appearance_df.to_sql(\"appearance\", con=engine, if_exists=\"replace\", index=False)\n",
    "activities_df.to_sql(\"activities\", con=engine, if_exists=\"replace\", index=False)\n",
    "interactions_df.to_sql(\"interactions\", con=engine, if_exists=\"replace\", index=False)"
   ]
  },
  {
   "cell_type": "code",
   "execution_count": 8,
   "id": "30794d6e-31e1-496e-b0be-aef10b522843",
   "metadata": {},
   "outputs": [
    {
     "data": {
      "text/plain": [
       "['activities', 'appearance', 'interactions', 'locations']"
      ]
     },
     "execution_count": 8,
     "metadata": {},
     "output_type": "execute_result"
    }
   ],
   "source": [
    "# View all of the classes\n",
    "inspector = inspect(engine)\n",
    "inspector.get_table_names()"
   ]
  },
  {
   "cell_type": "code",
   "execution_count": 9,
   "id": "1d069ead-0d3c-4d37-85e7-ad59495f412c",
   "metadata": {},
   "outputs": [
    {
     "name": "stdout",
     "output_type": "stream",
     "text": [
      "squirrel_id TEXT\n",
      "approaches BOOLEAN\n",
      "indifferent BOOLEAN\n",
      "runs_from BOOLEAN\n",
      "watching BOOLEAN\n"
     ]
    }
   ],
   "source": [
    "# Get column names for 'interactions'\n",
    "interactions_cols = inspector.get_columns('interactions')\n",
    "\n",
    "# Print the results for 'interactions' column names\n",
    "for col in interactions_cols:\n",
    "    print(col['name'], col['type'])"
   ]
  },
  {
   "cell_type": "code",
   "execution_count": 10,
   "id": "acb5f324-ca73-44cb-81e4-c973e006b417",
   "metadata": {
    "scrolled": true
   },
   "outputs": [
    {
     "ename": "AttributeError",
     "evalue": "'Engine' object has no attribute 'execute'",
     "output_type": "error",
     "traceback": [
      "\u001b[1;31m---------------------------------------------------------------------------\u001b[0m",
      "\u001b[1;31mAttributeError\u001b[0m                            Traceback (most recent call last)",
      "Cell \u001b[1;32mIn[10], line 1\u001b[0m\n\u001b[1;32m----> 1\u001b[0m engine\u001b[38;5;241m.\u001b[39mexecute(\u001b[38;5;124m\"\u001b[39m\u001b[38;5;124mSELECT * FROM locations\u001b[39m\u001b[38;5;124m\"\u001b[39m)\u001b[38;5;241m.\u001b[39mfetchall()\n",
      "\u001b[1;31mAttributeError\u001b[0m: 'Engine' object has no attribute 'execute'"
     ]
    }
   ],
   "source": [
    "engine.execute(\"SELECT * FROM locations\").fetchall()"
   ]
  },
  {
   "cell_type": "code",
   "execution_count": null,
   "id": "0d9df54b-1575-4306-ac28-c6b3bd0f055b",
   "metadata": {
    "scrolled": true
   },
   "outputs": [],
   "source": [
    "# Session = sessionmaker()\n",
    "session = Session(bind=engine)\n",
    "\n",
    "# Query the data\n",
    "results = session.query(locations).all()\n",
    "for result in results:\n",
    "    print(result.squirrel_id)"
   ]
  },
  {
   "cell_type": "code",
   "execution_count": null,
   "id": "5645a2c7-94d0-4d82-a2a4-b5fe69ddd944",
   "metadata": {},
   "outputs": [],
   "source": [
    "# Get column names for 'locations'\n",
    "locations_cols = inspector.get_columns('locations')\n",
    "\n",
    "# Print the results for 'locations' column names\n",
    "col_names = []\n",
    "for col in locations_cols:\n",
    "    # print(col['name'], col['type'])\n",
    "    col_names.append(col['name'])\n",
    "\n",
    "print(col_names)\n",
    "output_list = []\n",
    "\n",
    "# Query the data\n",
    "results = session.query(locations).all()\n",
    "for result in results:\n",
    "    result_dict = result.__dict__\n",
    "    \n",
    "    # output_dict = dict()\n",
    "    output_dict = {}\n",
    "    \n",
    "    for col in col_names:\n",
    "        # print(f\"{col}: {result_dict.get(col)}\")\n",
    "        output_dict[col] = result_dict.get(col)\n",
    "    output_list.append(output_dict)\n",
    "    \n",
    "output_list"
   ]
  },
  {
   "cell_type": "code",
   "execution_count": null,
   "id": "b79c6d85-6085-49f1-bcdb-9a0c21ce00c7",
   "metadata": {},
   "outputs": [],
   "source": [
    "# Get column names for 'locations'\n",
    "locations_cols = inspector.get_columns('locations')\n",
    "\n",
    "# Print the results for 'locations' column names\n",
    "col_names = []\n",
    "for col in locations_cols:\n",
    "    # print(col['name'], col['type'])\n",
    "    col_names.append(col['name'])\n",
    "\n",
    "print(col_names)\n",
    "output_list = []\n",
    "\n",
    "# Query the data\n",
    "results = session.query(locations).all()\n",
    "for result in results:\n",
    "    print(dir(result).__getattribute__)\n",
    "output_list"
   ]
  },
  {
   "cell_type": "code",
   "execution_count": null,
   "id": "cc3346fe-cc33-4c82-93c2-53670a684e6f",
   "metadata": {},
   "outputs": [],
   "source": []
  }
 ],
 "metadata": {
  "kernelspec": {
   "display_name": "Python 3 (ipykernel)",
   "language": "python",
   "name": "python3"
  },
  "language_info": {
   "codemirror_mode": {
    "name": "ipython",
    "version": 3
   },
   "file_extension": ".py",
   "mimetype": "text/x-python",
   "name": "python",
   "nbconvert_exporter": "python",
   "pygments_lexer": "ipython3",
   "version": "3.11.5"
  }
 },
 "nbformat": 4,
 "nbformat_minor": 5
}
